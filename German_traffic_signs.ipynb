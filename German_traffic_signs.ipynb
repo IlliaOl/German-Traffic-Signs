{
  "nbformat": 4,
  "nbformat_minor": 0,
  "metadata": {
    "colab": {
      "provenance": [],
      "gpuType": "T4"
    },
    "kernelspec": {
      "name": "python3",
      "display_name": "Python 3"
    },
    "language_info": {
      "name": "python"
    },
    "accelerator": "GPU"
  },
  "cells": [
    {
      "cell_type": "code",
      "execution_count": null,
      "metadata": {
        "id": "_qp5mN8uiose"
      },
      "outputs": [],
      "source": [
        "import pickle\n",
        "import torch\n",
        "import pandas\n",
        "import torchvision\n",
        "import collections\n",
        "import matplotlib.pyplot as plt\n",
        "\n",
        "from torch import nn\n",
        "from torchvision import transforms\n",
        "from torchvision.io import read_image\n",
        "from torch.utils.data import Dataset, DataLoader\n",
        "from torch.utils.tensorboard import SummaryWriter\n",
        "from sklearn.metrics import classification_report, confusion_matrix\n",
        "\n",
        "writer = SummaryWriter()\n",
        "device = 'cuda' if torch.cuda.is_available() else 'cpu'"
      ]
    },
    {
      "cell_type": "code",
      "source": [
        "with open('valid.p', 'rb') as f:\n",
        "  valid = pickle.load(f)\n",
        "with open('test.p', 'rb') as f:\n",
        "  test = pickle.load(f)\n",
        "with open('train.p', 'rb') as f:\n",
        "  train = pickle.load(f)\n",
        "\n",
        "train_x, train_y = train['features'], train['labels']\n",
        "test_x, test_y = test['features'], test['labels']\n",
        "valid_x, valid_y = valid['features'], valid['labels']"
      ],
      "metadata": {
        "id": "FcvuU5SnpzT_"
      },
      "execution_count": null,
      "outputs": []
    },
    {
      "cell_type": "code",
      "source": [
        "df = pandas.read_csv('/content/signname.csv')\n",
        "counter = collections.Counter(train_y)"
      ],
      "metadata": {
        "id": "cMKPBPnguujS"
      },
      "execution_count": null,
      "outputs": []
    },
    {
      "cell_type": "code",
      "source": [
        "plt.imshow(test_x[200])\n",
        "id = test_y[200]\n",
        "plt.title(df.iloc[id,1])"
      ],
      "metadata": {
        "colab": {
          "base_uri": "https://localhost:8080/",
          "height": 469
        },
        "id": "1aXqAhtOsYMh",
        "outputId": "c8aaf36f-9c9a-47c5-f6a4-12917a31d2d9"
      },
      "execution_count": null,
      "outputs": [
        {
          "output_type": "execute_result",
          "data": {
            "text/plain": [
              "Text(0.5, 1.0, 'No entry')"
            ]
          },
          "metadata": {},
          "execution_count": 4
        },
        {
          "output_type": "display_data",
          "data": {
            "text/plain": [
              "<Figure size 640x480 with 1 Axes>"
            ],
            "image/png": "[encoded data removed]"
          },
          "metadata": {}
        }
      ]
    },
    {
      "cell_type": "code",
      "source": [
        "class SignsDataset(Dataset):\n",
        "  \"\"\"Dataset class for storing and loading Traffic Sign images\"\"\"\n",
        "\n",
        "  def __init__(self,\n",
        "               images: list,\n",
        "               targets: list,\n",
        "               counter: collections.Counter,\n",
        "               augmentation: bool = False\n",
        "  ) -> None:\n",
        "    \"\"\" Args:\n",
        "            images (list): List of traffic sign images.\n",
        "            targets (list): List of corresponding labels.\n",
        "            counter (collections.Counter): Counter object, that contains amount\n",
        "              of instances in each class.\n",
        "            augmentation (bool): Wether to apply augmentation.\n",
        "    \"\"\"\n",
        "    self.images = images\n",
        "    self.targets = targets\n",
        "    self.counter = counter\n",
        "    self.augmentation = augmentation\n",
        "\n",
        "  def __len__(self) -> int:\n",
        "    return len(self.images)\n",
        "\n",
        "  def augment(self, image: torch.Tensor) -> torch.Tensor:\n",
        "    transformations = [transforms.RandomAffine([45, 180]), transforms.GaussianBlur(3),\n",
        "                  transforms.RandomRotation([45, 180])]\n",
        "    choice = transforms.RandomChoice(transformations)\n",
        "    return choice(image)\n",
        "\n",
        "  def __getitem__(self, idx: int) -> tuple:\n",
        "    image = self.images[idx]\n",
        "    totensor = transforms.ToTensor()\n",
        "    image = totensor(image)\n",
        "    target = self.targets[idx]\n",
        "\n",
        "    if self.augmentation and self.counter[target] < 300:\n",
        "       image = self.augment(image)\n",
        "\n",
        "    return (image, target)"
      ],
      "metadata": {
        "id": "b3IzFCA2vZbq"
      },
      "execution_count": null,
      "outputs": []
    },
    {
      "cell_type": "code",
      "source": [
        "train_dataset = SignsDataset(train_x, train_y, counter, True)\n",
        "test_dataset = SignsDataset(test_x, test_y, counter)\n",
        "valid_dataset = SignsDataset(valid_x, valid_y, counter)\n",
        "\n",
        "train_loader = DataLoader(train_dataset, batch_size=128, shuffle=True)\n",
        "test_loader = DataLoader(test_dataset, batch_size=128, shuffle=True)\n",
        "valid_loader = DataLoader(valid_dataset, batch_size=128, shuffle=True)"
      ],
      "metadata": {
        "id": "tlEtMUoP3z_X"
      },
      "execution_count": null,
      "outputs": []
    },
    {
      "cell_type": "code",
      "source": [
        "class small_VGG16(nn.Module):\n",
        "  \"\"\"VGG16 architecture for 32x32 images\"\"\"\n",
        "\n",
        "  def __init__(self) -> None:\n",
        "    super().__init__()\n",
        "    self.conv = nn.Sequential(\n",
        "        nn.Conv2d(3, 32, (3,3), padding='same'),\n",
        "        nn.ReLU(),\n",
        "        nn.Conv2d(32, 32, (3,3)),\n",
        "        nn.ReLU(),\n",
        "        nn.MaxPool2d((2,2)),\n",
        "        nn.Dropout(p=0.25),\n",
        "        nn.Conv2d(32, 64, (3,3), padding='same'),\n",
        "        nn.ReLU(),\n",
        "        nn.Conv2d(64, 64, (3,3)),\n",
        "        nn.ReLU(),\n",
        "        nn.MaxPool2d((2,2)),\n",
        "        nn.Dropout(p=0.25),\n",
        "    )\n",
        "    self.flatten = nn.Flatten()\n",
        "    self.fc = nn.Sequential(\n",
        "        nn.Linear(2304, 512),\n",
        "        nn.ReLU(),\n",
        "        nn.Dropout(p=0.5),\n",
        "        nn.Linear(512, 43),\n",
        "    )\n",
        "\n",
        "  def forward(self, x: torch.Tensor) -> torch.Tensor:\n",
        "    x = self.conv(x)\n",
        "    x = self.flatten(x)\n",
        "    x = self.fc(x)\n",
        "    return x"
      ],
      "metadata": {
        "id": "PV3KUTMKdZi0"
      },
      "execution_count": null,
      "outputs": []
    },
    {
      "cell_type": "code",
      "source": [
        "model = small_VGG16().to(device)\n",
        "loss_fn = nn.CrossEntropyLoss()\n",
        "optimizer = torch.optim.Adam(params=model.parameters())"
      ],
      "metadata": {
        "id": "vgUg8JgT4pGe"
      },
      "execution_count": null,
      "outputs": []
    },
    {
      "cell_type": "code",
      "source": [
        "def train() -> None:\n",
        "  for epoch in range(15):\n",
        "    loss_sum = 0\n",
        "    for batch, (image, target) in enumerate(train_loader):\n",
        "      image = image.to(dtype=torch.float32).to(device)\n",
        "      target = target.to(device)\n",
        "      output = model(image)\n",
        "      loss = loss_fn(output, target)\n",
        "      optimizer.zero_grad()\n",
        "      loss.backward()\n",
        "      optimizer.step()\n",
        "      loss_sum += loss.item()\n",
        "      batch_num = len(train_loader)*epoch+batch\n",
        "      writer.add_scalar(f'Loss/train', loss.item(), batch_num)\n",
        "      writer.add_scalar(f'Accuracy/train', calc_acc(output, target), batch_num)\n",
        "\n",
        "    print(f'epoch: {epoch}, loss: {loss_sum/len(train_loader)}')\n",
        "\n",
        "def test_val(mode: str = 'test', print_report: bool = False) -> None:\n",
        "  model.eval()\n",
        "  loss_sum = 0\n",
        "  acc_sum = 0\n",
        "  loader = test_loader if mode == 'test' else valid_loader\n",
        "  for batch, (image, target) in enumerate(loader):\n",
        "      image = image.to(dtype=torch.float32).to(device)\n",
        "      target = target.to(device)\n",
        "      output = model(image)\n",
        "      loss = loss_fn(output, target)\n",
        "      loss_sum += loss.item()\n",
        "      acc_sum += calc_acc(output, target)\n",
        "  print(f'loss: {loss_sum/len(loader)}, acc: {acc_sum/len(loader)}')\n",
        "  if print_report:\n",
        "    calc_metrics(output, target)\n",
        "\n",
        "def run(image: torch.Tensor) -> int:\n",
        "  resize = torchvision.transforms.Resize((32,32))\n",
        "  image = resize(image)\n",
        "  image = image.to(device, dtype=torch.float32)\n",
        "  image = image.unsqueeze(0)\n",
        "  output = model(image)[0]\n",
        "  return int(torch.argmax(output))\n",
        "\n",
        "def calc_acc(output: torch.Tensor, target: torch.Tensor) -> float:\n",
        "  output = torch.argmax(output, dim=1)\n",
        "  acc = 0\n",
        "  for x, y in zip(target, output):\n",
        "    if x == y:\n",
        "      acc += 1\n",
        "  return acc/len(target)\n",
        "\n",
        "def calc_metrics(outputs: torch.Tensor, targets: torch.Tensor) -> None:\n",
        "  outputs, targets = outputs.cpu(), targets.cpu()\n",
        "  outputs = torch.argmax(outputs, dim=1)\n",
        "  print(classification_report(targets, outputs))\n",
        "  print(confusion_matrix(targets, outputs))"
      ],
      "metadata": {
        "id": "ZSHsCksf5hK1"
      },
      "execution_count": null,
      "outputs": []
    },
    {
      "cell_type": "code",
      "source": [
        "train()"
      ],
      "metadata": {
        "colab": {
          "base_uri": "https://localhost:8080/"
        },
        "id": "YLF4iV6r8_FZ",
        "outputId": "62796c41-7e2c-48db-fc64-1154284ec7e7"
      },
      "execution_count": null,
      "outputs": [
        {
          "output_type": "stream",
          "name": "stdout",
          "text": [
            "epoch: 0, loss: 2.4289906640701435\n",
            "epoch: 1, loss: 0.6419188075644129\n",
            "epoch: 2, loss: 0.2964962788254899\n",
            "epoch: 3, loss: 0.1931233419214978\n",
            "epoch: 4, loss: 0.14835170437307918\n",
            "epoch: 5, loss: 0.11527578559402815\n",
            "epoch: 6, loss: 0.10124827383140869\n",
            "epoch: 7, loss: 0.09484487078289557\n",
            "epoch: 8, loss: 0.07895672789720051\n",
            "epoch: 9, loss: 0.06917217794997509\n",
            "epoch: 10, loss: 0.06365567321806927\n",
            "epoch: 11, loss: 0.06134857311639387\n",
            "epoch: 12, loss: 0.058160080235478855\n",
            "epoch: 13, loss: 0.051985472038401946\n",
            "epoch: 14, loss: 0.04867986972984748\n"
          ]
        }
      ]
    },
    {
      "cell_type": "code",
      "source": [
        "test_val('test')\n",
        "test_val('valid')"
      ],
      "metadata": {
        "id": "eRkvgDgmDsVa",
        "colab": {
          "base_uri": "https://localhost:8080/"
        },
        "outputId": "d7d54b8c-e347-4216-bf8e-00e325fb8586"
      },
      "execution_count": null,
      "outputs": [
        {
          "output_type": "stream",
          "name": "stdout",
          "text": [
            "loss: 0.1885236233421084, acc: 0.9562448614047451\n",
            "loss: 0.1783366959542036, acc: 0.9686576354679802\n"
          ]
        }
      ]
    }
  ]
}